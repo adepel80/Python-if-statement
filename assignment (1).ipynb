{
 "cells": [
  {
   "cell_type": "code",
   "execution_count": 1,
   "id": "b43daa42",
   "metadata": {},
   "outputs": [
    {
     "name": "stdout",
     "output_type": "stream",
     "text": [
      "enter score92\n",
      "examination nameteslim\n",
      "A\n"
     ]
    }
   ],
   "source": [
    "score = input(\"enter score\")\n",
    "score = int(score)\n",
    "name = input(\"examination name\")\n",
    "name = str(name)   \n",
    "             \n",
    "if score >= 70 and score <=100:\n",
    "    print(\"A\")\n",
    "elif score >=60 and score <=69:\n",
    "    print(\"B\")\n",
    "elif score >=50 and score <=59:\n",
    "    print(\"C\")\n",
    "elif score >=40 and score <=49:\n",
    "    print(\"D\")\n",
    "else:\n",
    "    print(\"F\")"
   ]
  },
  {
   "cell_type": "code",
   "execution_count": null,
   "id": "f7aeee5b",
   "metadata": {},
   "outputs": [],
   "source": []
  }
 ],
 "metadata": {
  "kernelspec": {
   "display_name": "Python 3",
   "language": "python",
   "name": "python3"
  },
  "language_info": {
   "codemirror_mode": {
    "name": "ipython",
    "version": 3
   },
   "file_extension": ".py",
   "mimetype": "text/x-python",
   "name": "python",
   "nbconvert_exporter": "python",
   "pygments_lexer": "ipython3",
   "version": "3.8.8"
  }
 },
 "nbformat": 4,
 "nbformat_minor": 5
}
